{
 "metadata": {
  "language_info": {
   "codemirror_mode": {
    "name": "ipython",
    "version": 3
   },
   "file_extension": ".py",
   "mimetype": "text/x-python",
   "name": "python",
   "nbconvert_exporter": "python",
   "pygments_lexer": "ipython3",
   "version": "3.8.1-final"
  },
  "orig_nbformat": 2,
  "kernelspec": {
   "name": "Python 3.8.1 64-bit ('torch_envs': conda)",
   "display_name": "Python 3.8.1 64-bit ('torch_envs': conda)",
   "metadata": {
    "interpreter": {
     "hash": "c7c624430578c8bb3802f5af25b95db6ab004b8f932d988693a13ec9000734ed"
    }
   }
  }
 },
 "nbformat": 4,
 "nbformat_minor": 2,
 "cells": [
  {
   "source": [
    "# 1. CNN Architecture\n",
    "\n",
    "## 1.1 LeNet-5\n",
    "[6 5x5-CONV]-SIGMOIG-[2x2 POOLING]-[16 5x5 CONV]-SIGMOID-[2x2 POOL]-[FC-84]-[FC-10]\n",
    "Link: http://d2l.ai/chapter_convolutional-neural-networks/lenet.html\n",
    "## 1.2 AlexNet\n",
    "Link: http://papers.nips.cc/paper/4824-imagenet-classification-with-deep-convolutional-neural-networks\n",
    "- First use of ReLU\n",
    "- Used Norm Layers\n",
    "- \n",
    "## 1.3 ZFNet\n",
    "Same idea as AlexNet\n",
    "\n",
    "## 1.4 VGGNet\n",
    "Deeper Networks, Small filters\n",
    "\n",
    "## 1.5 GoogleNet\n",
    "Deeper network, with computatiuonal efficiency\n",
    "*Inception module: Apply filter operations on the input from previous layer (Multiple receptive field sizes for convolutional 1x1, 3x3, 5x5; pooling operation 3x3) then concanate all filter outputs together depth-wise\n",
    "-> output depth is larger than input \n",
    "-> expensive compute\n",
    "* use the 1x1 conv to reduce the depth of feature map -> the computation\n",
    "* extra output to add more to gradient\n",
    "\n",
    "TODO: extra output\n",
    "\n",
    "## 1.6 ResNet\n",
    "\n",
    "Residual block: F(x) = H(x) - x instead of H(x)\n",
    "\n",
    "## 1.7 Others\n",
    "\n",
    "Network in Network \n",
    "Wide Residual Networks \n",
    "ResNeXt\n",
    "Deep Networks with Stochastic Depth \n",
    "FractalNet\n",
    "Densely Connected Convolutional Networks \n",
    "SqueezeNet\n",
    "\n"
   ],
   "cell_type": "code",
   "metadata": {},
   "execution_count": null,
   "outputs": []
  }
 ]
}